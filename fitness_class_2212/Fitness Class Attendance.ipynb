{
 "cells": [
  {
   "cell_type": "code",
   "execution_count": 153,
   "metadata": {},
   "outputs": [
    {
     "data": {
      "text/plain": [
       "'\\nTask 1 \\n\\n1. 對於數據中的每一列：\\n   a. 說明該列的值是否與上表中給出的描述相符。\\n   b. 說明該列中缺失值的數量。\\n   c. 如果值不符合描述，描述您所採取的措施使其符合描述。\\n'"
      ]
     },
     "execution_count": 153,
     "metadata": {},
     "output_type": "execute_result"
    }
   ],
   "source": [
    "\"\"\"\n",
    "Task 1 \n",
    "\n",
    "1. 對於數據中的每一列：\n",
    "   a. 說明該列的值是否與上表中給出的描述相符。\n",
    "   b. 說明該列中缺失值的數量。\n",
    "   c. 如果值不符合描述，描述您所採取的措施使其符合描述。\n",
    "\"\"\""
   ]
  },
  {
   "cell_type": "code",
   "execution_count": 154,
   "metadata": {},
   "outputs": [],
   "source": [
    "import numpy as np\n",
    "import pandas as pd\n",
    "import os\n",
    "\n",
    "import seaborn as sns\n",
    "import matplotlib.pyplot as plt\n",
    "\n",
    "import warnings\n",
    "warnings.filterwarnings(\"ignore\")\n",
    "\n",
    "#設置 Matplotlib 配置，全局設置字體。\n",
    "import matplotlib.pyplot as plt\n",
    "from matplotlib import rcParams\n",
    "\n",
    "# 設置支持繁體中文的字體\n",
    "rcParams['font.sans-serif'] = ['Microsoft JhengHei']  # 例如使用微軟正黑體\n",
    "rcParams['axes.unicode_minus'] = False  # 確保負號可以顯示"
   ]
  },
  {
   "cell_type": "code",
   "execution_count": 155,
   "metadata": {},
   "outputs": [
    {
     "data": {
      "text/html": [
       "<div>\n",
       "<style scoped>\n",
       "    .dataframe tbody tr th:only-of-type {\n",
       "        vertical-align: middle;\n",
       "    }\n",
       "\n",
       "    .dataframe tbody tr th {\n",
       "        vertical-align: top;\n",
       "    }\n",
       "\n",
       "    .dataframe thead th {\n",
       "        text-align: right;\n",
       "    }\n",
       "</style>\n",
       "<table border=\"1\" class=\"dataframe\">\n",
       "  <thead>\n",
       "    <tr style=\"text-align: right;\">\n",
       "      <th></th>\n",
       "      <th>booking_id</th>\n",
       "      <th>months_as_member</th>\n",
       "      <th>weight</th>\n",
       "      <th>days_before</th>\n",
       "      <th>day_of_week</th>\n",
       "      <th>time</th>\n",
       "      <th>category</th>\n",
       "      <th>attended</th>\n",
       "    </tr>\n",
       "  </thead>\n",
       "  <tbody>\n",
       "    <tr>\n",
       "      <th>0</th>\n",
       "      <td>1</td>\n",
       "      <td>17</td>\n",
       "      <td>79.56</td>\n",
       "      <td>8</td>\n",
       "      <td>Wed</td>\n",
       "      <td>PM</td>\n",
       "      <td>Strength</td>\n",
       "      <td>0</td>\n",
       "    </tr>\n",
       "    <tr>\n",
       "      <th>1</th>\n",
       "      <td>2</td>\n",
       "      <td>10</td>\n",
       "      <td>79.01</td>\n",
       "      <td>2</td>\n",
       "      <td>Mon</td>\n",
       "      <td>AM</td>\n",
       "      <td>HIIT</td>\n",
       "      <td>0</td>\n",
       "    </tr>\n",
       "    <tr>\n",
       "      <th>2</th>\n",
       "      <td>3</td>\n",
       "      <td>16</td>\n",
       "      <td>74.53</td>\n",
       "      <td>14</td>\n",
       "      <td>Sun</td>\n",
       "      <td>AM</td>\n",
       "      <td>Strength</td>\n",
       "      <td>0</td>\n",
       "    </tr>\n",
       "    <tr>\n",
       "      <th>3</th>\n",
       "      <td>4</td>\n",
       "      <td>5</td>\n",
       "      <td>86.12</td>\n",
       "      <td>10</td>\n",
       "      <td>Fri</td>\n",
       "      <td>AM</td>\n",
       "      <td>Cycling</td>\n",
       "      <td>0</td>\n",
       "    </tr>\n",
       "    <tr>\n",
       "      <th>4</th>\n",
       "      <td>5</td>\n",
       "      <td>15</td>\n",
       "      <td>69.29</td>\n",
       "      <td>8</td>\n",
       "      <td>Thu</td>\n",
       "      <td>AM</td>\n",
       "      <td>HIIT</td>\n",
       "      <td>0</td>\n",
       "    </tr>\n",
       "  </tbody>\n",
       "</table>\n",
       "</div>"
      ],
      "text/plain": [
       "   booking_id  months_as_member  weight days_before day_of_week time  \\\n",
       "0           1                17   79.56           8         Wed   PM   \n",
       "1           2                10   79.01           2         Mon   AM   \n",
       "2           3                16   74.53          14         Sun   AM   \n",
       "3           4                 5   86.12          10         Fri   AM   \n",
       "4           5                15   69.29           8         Thu   AM   \n",
       "\n",
       "   category  attended  \n",
       "0  Strength         0  \n",
       "1      HIIT         0  \n",
       "2  Strength         0  \n",
       "3   Cycling         0  \n",
       "4      HIIT         0  "
      ]
     },
     "execution_count": 155,
     "metadata": {},
     "output_type": "execute_result"
    }
   ],
   "source": [
    "df = pd.read_csv(r\"C:\\Users\\cgiks\\Desktop\\nkust\\fitness_class_2212.csv\") \n",
    "df.head() #顯示文件前五筆資料"
   ]
  },
  {
   "cell_type": "code",
   "execution_count": 156,
   "metadata": {},
   "outputs": [
    {
     "name": "stdout",
     "output_type": "stream",
     "text": [
      "<class 'pandas.core.frame.DataFrame'>\n",
      "RangeIndex: 1500 entries, 0 to 1499\n",
      "Data columns (total 8 columns):\n",
      " #   Column            Non-Null Count  Dtype  \n",
      "---  ------            --------------  -----  \n",
      " 0   booking_id        1500 non-null   int64  \n",
      " 1   months_as_member  1500 non-null   int64  \n",
      " 2   weight            1480 non-null   float64\n",
      " 3   days_before       1500 non-null   object \n",
      " 4   day_of_week       1500 non-null   object \n",
      " 5   time              1500 non-null   object \n",
      " 6   category          1500 non-null   object \n",
      " 7   attended          1500 non-null   int64  \n",
      "dtypes: float64(1), int64(3), object(4)\n",
      "memory usage: 93.9+ KB\n"
     ]
    }
   ],
   "source": [
    "df.info() #查看數據內容(名稱、非空值數量和數據類型)"
   ]
  },
  {
   "cell_type": "code",
   "execution_count": 157,
   "metadata": {},
   "outputs": [
    {
     "data": {
      "text/plain": [
       "array([ 17,  10,  16,   5,  15,   7,  11,   9,  23,  13,   8,  22,   6,\n",
       "        33,  24,  14,   2,  12,  26,  28,  27,   1,   3,  21,  18,  19,\n",
       "        53,  20,  34,  25,  32,  73,  55,   4,  35,  54,  76,  62,  42,\n",
       "       105,  90,  29,  60,  30, 107,  52,  37,  38,  48,  51,  40,  89,\n",
       "        57,  36,  44,  39,  41,  47,  58,  66,  45,  43,  61,  50,  65,\n",
       "        31,  97,  59,  93, 148, 111,  69], dtype=int64)"
      ]
     },
     "execution_count": 157,
     "metadata": {},
     "output_type": "execute_result"
    }
   ],
   "source": [
    "df.months_as_member.unique() #檢查months_as_member(會員的月數)，有多少個不同的值"
   ]
  },
  {
   "cell_type": "code",
   "execution_count": 158,
   "metadata": {},
   "outputs": [
    {
     "data": {
      "text/plain": [
       "array(['8', '2', '14', '10', '6', '4', '9', '12', '5', '3', '7', '13',\n",
       "       '12 days', '20', '1', '15', '6 days', '11', '13 days', '3 days',\n",
       "       '16', '1 days', '7 days', '8 days', '10 days', '14 days', '17',\n",
       "       '5 days', '2 days', '4 days', '29'], dtype=object)"
      ]
     },
     "execution_count": 158,
     "metadata": {},
     "output_type": "execute_result"
    }
   ],
   "source": [
    "df.days_before.unique() #檢查days_before(會員在報名課程開始前的天數)，文件內提到days，導致它被歸類為object。"
   ]
  },
  {
   "cell_type": "code",
   "execution_count": 159,
   "metadata": {},
   "outputs": [],
   "source": [
    "df['days_before'] = df['days_before'].str.replace(' days', '').astype('int64') #修正數據類型\n",
    "#replace方法來刪除字符串中的 ' days' 部分，且轉換為整數類型"
   ]
  },
  {
   "cell_type": "code",
   "execution_count": 160,
   "metadata": {},
   "outputs": [
    {
     "data": {
      "text/plain": [
       "Index([1, 2, 3, 4, 5, 6, 7, 8, 9, 10, 11, 12, 13, 14, 15, 16, 17, 20, 29], dtype='int64', name='days_before')"
      ]
     },
     "execution_count": 160,
     "metadata": {},
     "output_type": "execute_result"
    }
   ],
   "source": [
    "df['days_before'].value_counts().index.sort_values() #輸出結果"
   ]
  },
  {
   "cell_type": "code",
   "execution_count": 161,
   "metadata": {},
   "outputs": [
    {
     "data": {
      "text/plain": [
       "array(['Wed', 'Mon', 'Sun', 'Fri', 'Thu', 'Wednesday', 'Fri.', 'Tue',\n",
       "       'Sat', 'Monday'], dtype=object)"
      ]
     },
     "execution_count": 161,
     "metadata": {},
     "output_type": "execute_result"
    }
   ],
   "source": [
    "df.day_of_week.unique() #檢查day_of_week(星期幾上課)，明顯有些地方有重覆到'Wednesday'、'Fri.'、'Monday'。"
   ]
  },
  {
   "cell_type": "code",
   "execution_count": 162,
   "metadata": {},
   "outputs": [],
   "source": [
    "df['day_of_week'] = df['day_of_week'].str[:3] #將一週的天數縮寫為只有三個字元。\n",
    "\n",
    "day_mapping = { #映射到對應的數字\n",
    "    'Mon': 1,\n",
    "    'Tue': 2,\n",
    "    'Wed': 3,\n",
    "    'Thu': 4,\n",
    "    'Fri': 5,\n",
    "    'Sat': 6,\n",
    "    'Sun': 7\n",
    "}\n",
    "\n",
    "df['day_of_week'] = df['day_of_week'].map(day_mapping)"
   ]
  },
  {
   "cell_type": "code",
   "execution_count": 163,
   "metadata": {},
   "outputs": [
    {
     "data": {
      "text/plain": [
       "array([3, 1, 7, 5, 4, 2, 6], dtype=int64)"
      ]
     },
     "execution_count": 163,
     "metadata": {},
     "output_type": "execute_result"
    }
   ],
   "source": [
    "df.day_of_week.unique() #輸出結果"
   ]
  },
  {
   "cell_type": "code",
   "execution_count": 164,
   "metadata": {},
   "outputs": [
    {
     "data": {
      "text/plain": [
       "array(['PM', 'AM'], dtype=object)"
      ]
     },
     "execution_count": 164,
     "metadata": {},
     "output_type": "execute_result"
    }
   ],
   "source": [
    "df.time.unique() #檢查time(上課的時間)，無異常。"
   ]
  },
  {
   "cell_type": "code",
   "execution_count": 165,
   "metadata": {},
   "outputs": [
    {
     "data": {
      "text/plain": [
       "'\\nHIIT 高強度間歇運動\\nCycling 飛輪單車\\nStrength 力量\\nYoga 瑜伽\\nAqua 水中健身\\n'"
      ]
     },
     "execution_count": 165,
     "metadata": {},
     "output_type": "execute_result"
    }
   ],
   "source": [
    "df.category.unique() #檢查category(健身課的類別)，有一個類別為“-”，讓我們將其替換為'unknown'。\n",
    "\"\"\"\n",
    "HIIT 高強度間歇運動\n",
    "Cycling 飛輪單車\n",
    "Strength 力量\n",
    "Yoga 瑜伽\n",
    "Aqua 水中健身\n",
    "\"\"\""
   ]
  },
  {
   "cell_type": "code",
   "execution_count": 166,
   "metadata": {},
   "outputs": [
    {
     "data": {
      "text/plain": [
       "category\n",
       "HIIT        667\n",
       "Cycling     376\n",
       "Strength    233\n",
       "Yoga        135\n",
       "Aqua         76\n",
       "unknown      13\n",
       "Name: count, dtype: int64"
      ]
     },
     "execution_count": 166,
     "metadata": {},
     "output_type": "execute_result"
    }
   ],
   "source": [
    "df['category']=df['category'].replace('-', 'unknown')\n",
    "df.category.value_counts() #'unknown'有13筆。"
   ]
  },
  {
   "cell_type": "code",
   "execution_count": 167,
   "metadata": {},
   "outputs": [
    {
     "data": {
      "text/plain": [
       "attended\n",
       "0    1046\n",
       "1     454\n",
       "Name: count, dtype: int64"
      ]
     },
     "execution_count": 167,
     "metadata": {},
     "output_type": "execute_result"
    }
   ],
   "source": [
    "df.attended.value_counts() #檢查attended(成員是否參加了課程 1 或未參加課程 0)"
   ]
  },
  {
   "cell_type": "code",
   "execution_count": 168,
   "metadata": {},
   "outputs": [
    {
     "data": {
      "text/plain": [
       "142     55.41\n",
       "138     57.83\n",
       "150     58.13\n",
       "738     58.24\n",
       "933     58.42\n",
       "        ...  \n",
       "1119      NaN\n",
       "1266      NaN\n",
       "1336      NaN\n",
       "1363      NaN\n",
       "1416      NaN\n",
       "Name: weight, Length: 1500, dtype: float64"
      ]
     },
     "execution_count": 168,
     "metadata": {},
     "output_type": "execute_result"
    }
   ],
   "source": [
    "df.weight.sort_values() #檢查weight，有些數據出現了NA"
   ]
  },
  {
   "cell_type": "code",
   "execution_count": 169,
   "metadata": {},
   "outputs": [
    {
     "data": {
      "text/plain": [
       "booking_id           0\n",
       "months_as_member     0\n",
       "weight              20\n",
       "days_before          0\n",
       "day_of_week          0\n",
       "time                 0\n",
       "category             0\n",
       "attended             0\n",
       "dtype: int64"
      ]
     },
     "execution_count": 169,
     "metadata": {},
     "output_type": "execute_result"
    }
   ],
   "source": [
    "df.isnull().sum() #NA有20筆"
   ]
  },
  {
   "cell_type": "code",
   "execution_count": 170,
   "metadata": {},
   "outputs": [
    {
     "data": {
      "text/plain": [
       "booking_id          0\n",
       "months_as_member    0\n",
       "weight              0\n",
       "days_before         0\n",
       "day_of_week         0\n",
       "time                0\n",
       "category            0\n",
       "attended            0\n",
       "dtype: int64"
      ]
     },
     "execution_count": 170,
     "metadata": {},
     "output_type": "execute_result"
    }
   ],
   "source": [
    "df['weight']= df['weight'].fillna(df['weight'].mean()) #用 weight 列的平均值替換其中的所有空值（NaN）。\n",
    "df.isnull().sum() "
   ]
  },
  {
   "cell_type": "code",
   "execution_count": 171,
   "metadata": {},
   "outputs": [
    {
     "name": "stdout",
     "output_type": "stream",
     "text": [
      "<class 'pandas.core.frame.DataFrame'>\n",
      "RangeIndex: 1500 entries, 0 to 1499\n",
      "Data columns (total 8 columns):\n",
      " #   Column            Non-Null Count  Dtype  \n",
      "---  ------            --------------  -----  \n",
      " 0   booking_id        1500 non-null   int64  \n",
      " 1   months_as_member  1500 non-null   int64  \n",
      " 2   weight            1500 non-null   float64\n",
      " 3   days_before       1500 non-null   int64  \n",
      " 4   day_of_week       1500 non-null   int64  \n",
      " 5   time              1500 non-null   object \n",
      " 6   category          1500 non-null   object \n",
      " 7   attended          1500 non-null   int64  \n",
      "dtypes: float64(1), int64(5), object(2)\n",
      "memory usage: 93.9+ KB\n"
     ]
    }
   ],
   "source": [
    "df.info() #數據清洗後，再次查看內容"
   ]
  },
  {
   "cell_type": "code",
   "execution_count": 172,
   "metadata": {},
   "outputs": [
    {
     "data": {
      "text/plain": [
       "'\\nTask 2\\n\\n創建一個可視化圖表，顯示有多少預訂參加課程。\\na. 說明變量 attended 的哪個(健身課類別)有最多觀察值。\\nb. 解釋觀察值是否在 attended 變量的各個類別中平衡分佈。\\n'"
      ]
     },
     "execution_count": 172,
     "metadata": {},
     "output_type": "execute_result"
    }
   ],
   "source": [
    "\"\"\"\n",
    "Task 2\n",
    "\n",
    "創建一個可視化圖表，顯示有多少預訂參加課程。\n",
    "a. 說明變量 attended 的哪個(健身課類別)有最多觀察值。\n",
    "b. 解釋觀察值是否在 attended 變量的各個類別中平衡分佈。\n",
    "\"\"\""
   ]
  },
  {
   "cell_type": "code",
   "execution_count": 173,
   "metadata": {},
   "outputs": [
    {
     "data": {
      "image/png": "[encoded data removed]",
      "text/plain": [
       "<Figure size 1500x600 with 1 Axes>"
      ]
     },
     "metadata": {},
     "output_type": "display_data"
    }
   ],
   "source": [
    "#要計算每個類別的計數\n",
    "\n",
    "#計算每個類別的計數並排序\n",
    "category_counts = df['category'].value_counts().reset_index()\n",
    "category_counts.columns = ['category', 'count']\n",
    "category_counts = category_counts.sort_values(by='count', ascending=False)\n",
    "\n",
    "#設置圖表大小\n",
    "plt.figure(figsize =(15,6))\n",
    "\n",
    "# 繪製計數圖，將 'attended' 列临时转换为字符串\n",
    "ax = sns.countplot(data=df, x='category', palette=[\"#ebc1b7\", \"#9ac8ed\"], hue=df['attended'].astype(str), order=category_counts['category'])\n",
    "\n",
    "#添加數據標籤\n",
    "for p in ax.patches:\n",
    "    ax.annotate(f'{p.get_height()}', (p.get_x() + p.get_width() / 2., p.get_height()), ha='center', va='bottom')\n",
    "\n",
    "#設置圖表標題和標籤\n",
    "plt.xlabel('類別')\n",
    "plt.ylabel(\"\")\n",
    "plt.title('按類別的出席人數統計', size=14, weight=\"bold\")\n",
    "plt.legend(title='Attended', labels=['未出席', '已出席'])\n",
    "\n",
    "#美化圖表\n",
    "sns.despine(left=True, bottom=True)\n",
    "\n",
    "#展示圖表\n",
    "plt.show();"
   ]
  },
  {
   "cell_type": "code",
   "execution_count": 174,
   "metadata": {},
   "outputs": [
    {
     "data": {
      "text/plain": [
       "'\\nHIIT 高強度間歇運動\\nCycling 飛輪單車\\nStrength 力量\\nYoga 瑜伽\\nAqua 水中健身\\n'"
      ]
     },
     "execution_count": 174,
     "metadata": {},
     "output_type": "execute_result"
    }
   ],
   "source": [
    "#上述HIIT的觀測值最多，為213。\n",
    "\"\"\"\n",
    "HIIT 高強度間歇運動\n",
    "Cycling 飛輪單車\n",
    "Strength 力量\n",
    "Yoga 瑜伽\n",
    "Aqua 水中健身\n",
    "\"\"\""
   ]
  },
  {
   "cell_type": "code",
   "execution_count": 175,
   "metadata": {},
   "outputs": [
    {
     "data": {
      "text/plain": [
       "<Figure size 1500x500 with 0 Axes>"
      ]
     },
     "metadata": {},
     "output_type": "display_data"
    },
    {
     "data": {
      "image/png": "[encoded data removed]",
      "text/plain": [
       "<Figure size 640x480 with 1 Axes>"
      ]
     },
     "metadata": {},
     "output_type": "display_data"
    }
   ],
   "source": [
    "#創建一個類別和出席情況的交叉表。\n",
    "\n",
    "#計算交叉表（crosstab）並標準化\n",
    "ct = round(pd.crosstab(df['category'], df['attended'], normalize='index') * 100,1)\n",
    "\n",
    "#設置圖形大小\n",
    "plt.figure(figsize=(15, 5))\n",
    "\n",
    "#繪製堆疊條形圖\n",
    "ax = ct.plot(kind='barh', stacked=True, color= [\"#ebc1b7\", \"#9ac8ed\"])\n",
    "\n",
    "#設置標籤和標題\n",
    "plt.ylabel('類別')\n",
    "plt.xlabel(\"\")\n",
    "plt.title('按類別的出席百分比', size=14, weight=\"bold\")\n",
    "\n",
    "#設置圖例\n",
    "plt.legend(title='Attended', labels=['未出席', '已出席'], bbox_to_anchor=(1, 1))\n",
    "\n",
    "#為條形添加標籤\n",
    "for container in ax.containers:\n",
    "    ax.bar_label(container, label_type='center', fontsize=9, color='black')\n",
    "\n",
    "#美化圖表\n",
    "sns.despine(left=True, bottom=True)\n",
    "\n",
    "#顯示圖表\n",
    "plt.show()"
   ]
  },
  {
   "cell_type": "code",
   "execution_count": 176,
   "metadata": {},
   "outputs": [],
   "source": [
    "#上述不同(健身課的類別)中出席率的差異。"
   ]
  },
  {
   "cell_type": "code",
   "execution_count": 177,
   "metadata": {},
   "outputs": [
    {
     "data": {
      "text/plain": [
       "'\\nTask 3\\n\\n描述作為會員的月數分佈，顯示分佈的可視化圖表。\\n'"
      ]
     },
     "execution_count": 177,
     "metadata": {},
     "output_type": "execute_result"
    }
   ],
   "source": [
    "\"\"\"\n",
    "Task 3\n",
    "\n",
    "描述作為會員的月數分佈，顯示分佈的可視化圖表。\n",
    "\"\"\""
   ]
  },
  {
   "cell_type": "code",
   "execution_count": 178,
   "metadata": {},
   "outputs": [
    {
     "data": {
      "image/png": "[encoded data removed]",
      "text/plain": [
       "<Figure size 1500x600 with 1 Axes>"
      ]
     },
     "metadata": {},
     "output_type": "display_data"
    }
   ],
   "source": [
    "#設置圖形大小\n",
    "plt.figure(figsize=(15, 6))\n",
    "\n",
    "#繪製直方圖\n",
    "sns.histplot(data=df, x='months_as_member', kde=True, color=\"#d6a69a\")\n",
    "\n",
    "#設置標籤和標題\n",
    "plt.xlabel('會員月份')\n",
    "plt.ylabel(\"\")\n",
    "plt.title('會員月份的分佈', size=14, weight=\"bold\")\n",
    "\n",
    "#美化圖表\n",
    "sns.despine(left=True, bottom=True)\n",
    "\n",
    "#顯示圖表\n",
    "plt.show()"
   ]
  },
  {
   "cell_type": "code",
   "execution_count": 179,
   "metadata": {},
   "outputs": [],
   "source": [
    "#會員月份10~20個月比例為最大宗。"
   ]
  },
  {
   "cell_type": "code",
   "execution_count": 180,
   "metadata": {},
   "outputs": [
    {
     "data": {
      "text/plain": [
       "'\\nTask 4\\n\\n描述出席情況與作為會員的月數之間的關係。\\n'"
      ]
     },
     "execution_count": 180,
     "metadata": {},
     "output_type": "execute_result"
    }
   ],
   "source": [
    "\"\"\"\n",
    "Task 4\n",
    "\n",
    "描述出席情況與作為會員的月數之間的關係。\n",
    "\"\"\""
   ]
  },
  {
   "cell_type": "code",
   "execution_count": 181,
   "metadata": {},
   "outputs": [
    {
     "data": {
      "text/plain": [
       "<Figure size 1500x500 with 0 Axes>"
      ]
     },
     "metadata": {},
     "output_type": "display_data"
    },
    {
     "data": {
      "image/png": "[encoded data removed]",
      "text/plain": [
       "<Figure size 600x600 with 3 Axes>"
      ]
     },
     "metadata": {},
     "output_type": "display_data"
    }
   ],
   "source": [
    "#設置圖形大小\n",
    "plt.figure(figsize=(15, 5))\n",
    "\n",
    "#繪製聯合圖\n",
    "sns.jointplot(data=df, x='months_as_member', y='attended', kind=\"reg\", color=\"#d6a69a\")\n",
    "\n",
    "#設置軸標籤\n",
    "plt.xlabel('Log-會員月份')\n",
    "plt.ylabel(\"已出席\")\n",
    "\n",
    "#展示圖表\n",
    "plt.show();"
   ]
  },
  {
   "cell_type": "code",
   "execution_count": 182,
   "metadata": {},
   "outputs": [],
   "source": [
    "#聯合圖的散點部分顯示了每個點的會員月份和出席次數，而回歸線則試圖表示這兩個變量之間的趨勢。這條線表明，隨著會員月份的增加，出席次數也有增加的趨勢。"
   ]
  },
  {
   "cell_type": "code",
   "execution_count": 183,
   "metadata": {},
   "outputs": [
    {
     "data": {
      "image/png": "[encoded data removed]",
      "text/plain": [
       "<Figure size 800x600 with 1 Axes>"
      ]
     },
     "metadata": {},
     "output_type": "display_data"
    }
   ],
   "source": [
    "#設置圖形大小\n",
    "plt.figure(figsize=(8, 6))\n",
    "\n",
    "#繪製箱形圖\n",
    "sns.boxplot(data=df, x='attended', y='months_as_member', orient='v', palette = [\"#ebc1b7\", \"#9ac8ed\"])\n",
    "\n",
    "#設置標籤和標題\n",
    "plt.xlabel('出席')\n",
    "plt.ylabel(\"\")\n",
    "plt.title('出席與月份數量之間的關係', size=12, weight=\"bold\")\n",
    "\n",
    "#美化圖表\n",
    "sns.despine(left=True, bottom=True)\n",
    "\n",
    "#展示圖表\n",
    "plt.show()"
   ]
  },
  {
   "cell_type": "code",
   "execution_count": 184,
   "metadata": {},
   "outputs": [
    {
     "data": {
      "text/plain": [
       "'\\n箱子的解釋如下：\\n\\n箱子的中間線：代表中位數，即數據的中間點。\\n箱子的上下邊緣：分別代表第三四分位數（Q3）和第一四分位數（Q1），即數據分佈的上下四分之一。\\n箱子上下的橫線：展示了數據的變異範圍，通常是到第一四分位數以下1.5倍的四分位距（IQR）和到第三四分位數以上1.5倍的四分位距。超出這個範圍的點被認為是極端值或離群值。\\n單獨的點：代表極端值或離群值，表示這些點的數據值與大多數數據相比非常異常。\\n\\n從圖表中我們可以觀察到：\\n出席（1）的箱形較未出席（0）的箱形要高，這可能意味著經常出席的會員往往已經加入了較長的時間。\\n兩個類別的數據都有一些極端值，特別是在未出席類別中。\\n出席組的數據變異範圍比未出席組的要大，這表明出席組的會員月份有較大的差異。\\n\\n總的來說，這個箱形圖提供了出席與會員月份之間關係的視覺表示，顯示了那些經常出席健身班的會員可能已經加入了更長時間。\\n'"
      ]
     },
     "execution_count": 184,
     "metadata": {},
     "output_type": "execute_result"
    }
   ],
   "source": [
    "#這張圖是一個箱形圖，它用來顯示「出席」和「會員月份」之間的關係。\n",
    "#X軸代表出席狀態，分為0（未出席）和1（已出席）兩個類別。\n",
    "#Y軸代表會員的月份數量。箱形圖能夠展示出數據的分佈情況，包括中位數、四分位數以及極端值。\n",
    "\n",
    "\"\"\"\n",
    "箱子的解釋如下：\n",
    "\n",
    "箱子的中間線：代表中位數，即數據的中間點。\n",
    "箱子的上下邊緣：分別代表第三四分位數（Q3）和第一四分位數（Q1），即數據分佈的上下四分之一。\n",
    "箱子上下的橫線：展示了數據的變異範圍，通常是到第一四分位數以下1.5倍的四分位距（IQR）和到第三四分位數以上1.5倍的四分位距。超出這個範圍的點被認為是極端值或離群值。\n",
    "單獨的點：代表極端值或離群值，表示這些點的數據值與大多數數據相比非常異常。\n",
    "\n",
    "從圖表中我們可以觀察到：\n",
    "出席（1）的箱形較未出席（0）的箱形要高，這可能意味著經常出席的會員往往已經加入了較長的時間。\n",
    "兩個類別的數據都有一些極端值，特別是在未出席類別中。\n",
    "出席組的數據變異範圍比未出席組的要大，這表明出席組的會員月份有較大的差異。\n",
    "\n",
    "總的來說，這個箱形圖提供了出席與會員月份之間關係的視覺表示，顯示了那些經常出席健身班的會員可能已經加入了更長時間。\n",
    "\"\"\""
   ]
  },
  {
   "cell_type": "code",
   "execution_count": 185,
   "metadata": {},
   "outputs": [],
   "source": [
    "# 我們在數據集中發現了異常值\n",
    "# 讓我們移除這些異常值\n",
    "# 計算四分位距（IQR）\n",
    "Q1 = df['months_as_member'].quantile(0.25)\n",
    "Q3 = df['months_as_member'].quantile(0.75)\n",
    "IQR = Q3 - Q1\n",
    "\n",
    "# 定義異常值的下限和上限\n",
    "lower_bound = Q1 - 1.5 * IQR\n",
    "upper_bound = Q3 + 1.5 * IQR"
   ]
  },
  {
   "cell_type": "code",
   "execution_count": 186,
   "metadata": {},
   "outputs": [
    {
     "data": {
      "image/png": "[encoded data removed]",
      "text/plain": [
       "<Figure size 800x600 with 1 Axes>"
      ]
     },
     "metadata": {},
     "output_type": "display_data"
    }
   ],
   "source": [
    "# 篩選掉異常值\n",
    "\n",
    "#篩選去除異常值的數據\n",
    "df1 = df[(df['months_as_member'] >= lower_bound) & (df['months_as_member'] <= upper_bound)]\n",
    "\n",
    "#設置圖形大小\n",
    "plt.figure(figsize=(8, 6))\n",
    "\n",
    "#繪製箱形圖\n",
    "sns.boxplot(data=df1, x='attended', y='months_as_member', orient='v',palette = [\"#ebc1b7\", \"#9ac8ed\"])\n",
    "\n",
    "#設置標籤和標題\n",
    "plt.ylabel('Number of Months as a Member')\n",
    "plt.xlabel('出席')\n",
    "plt.ylabel(\"\")\n",
    "plt.title('出席與會員月數之間的關係(不包括異常值)', size=12, weight=\"bold\")\n",
    "\n",
    "#美化圖表\n",
    "sns.despine(left=True, bottom=True)\n",
    "\n",
    "#展示圖表\n",
    "plt.show()"
   ]
  },
  {
   "cell_type": "code",
   "execution_count": 187,
   "metadata": {},
   "outputs": [
    {
     "data": {
      "text/plain": [
       "'\\n這張圖是一個箱形圖，但這次排除了異常值。\\n排除異常值後的箱形圖有助於更清楚地看到數據的一般分佈情況，而不是被極端值影響。這樣可以提供更準確的描述性統計數據，因為極端值可能會歪曲數據的中心趨勢和變異。\\n\\n這個圖表中可以觀察到：\\n未出席（0）的會員月份的中位數較低，這意味著未出席的會員中位數的會員資歷較短。\\n已出席（1）的會員月份的中位數較高，這表明出席次數較多的會員通常會員資歷較長。\\n未出席組的數據分佈較窄，表明這些會員的會員資歷差異較小。\\n已出席組的數據分佈較廣，表明這些會員的會員資歷差異較大。\\n\\n綜上所述，這張箱形圖提供了一種更淨化的視角，來觀察出席與會員月份之間的關係。\\n'"
      ]
     },
     "execution_count": 187,
     "metadata": {},
     "output_type": "execute_result"
    }
   ],
   "source": [
    "\"\"\"\n",
    "這張圖是一個箱形圖，但這次排除了異常值。\n",
    "排除異常值後的箱形圖有助於更清楚地看到數據的一般分佈情況，而不是被極端值影響。這樣可以提供更準確的描述性統計數據，因為極端值可能會歪曲數據的中心趨勢和變異。\n",
    "\n",
    "這個圖表中可以觀察到：\n",
    "未出席（0）的會員月份的中位數較低，這意味著未出席的會員中位數的會員資歷較短。\n",
    "已出席（1）的會員月份的中位數較高，這表明出席次數較多的會員通常會員資歷較長。\n",
    "未出席組的數據分佈較窄，表明這些會員的會員資歷差異較小。\n",
    "已出席組的數據分佈較廣，表明這些會員的會員資歷差異較大。\n",
    "\n",
    "綜上所述，這張箱形圖提供了一種更淨化的視角，來觀察出席與會員月份之間的關係。\n",
    "\"\"\""
   ]
  },
  {
   "cell_type": "code",
   "execution_count": 188,
   "metadata": {},
   "outputs": [
    {
     "data": {
      "text/plain": [
       "'\\nTask 5\\n\\n為了進行建模，我們需要進行數據預處理。進行了以下更改：\\n- 使用虛擬變量將所有對象變量轉換為數值變量，適用於分類和時間。\\n- 移除了超過 1.5*IQR 的異常值。\\n'"
      ]
     },
     "execution_count": 188,
     "metadata": {},
     "output_type": "execute_result"
    }
   ],
   "source": [
    "\"\"\"\n",
    "Task 5\n",
    "\n",
    "為了進行建模，我們需要進行數據預處理。進行了以下更改：\n",
    "- 使用虛擬變量將所有對象變量轉換為數值變量，適用於分類和時間。\n",
    "- 移除了超過 1.5*IQR 的異常值。\n",
    "\"\"\""
   ]
  },
  {
   "cell_type": "code",
   "execution_count": 189,
   "metadata": {},
   "outputs": [
    {
     "name": "stdout",
     "output_type": "stream",
     "text": [
      "<class 'pandas.core.frame.DataFrame'>\n",
      "Index: 1397 entries, 0 to 1499\n",
      "Data columns (total 8 columns):\n",
      " #   Column            Non-Null Count  Dtype  \n",
      "---  ------            --------------  -----  \n",
      " 0   booking_id        1397 non-null   int64  \n",
      " 1   months_as_member  1397 non-null   int64  \n",
      " 2   weight            1397 non-null   float64\n",
      " 3   days_before       1397 non-null   int64  \n",
      " 4   day_of_week       1397 non-null   int64  \n",
      " 5   time              1397 non-null   object \n",
      " 6   category          1397 non-null   object \n",
      " 7   attended          1397 non-null   int64  \n",
      "dtypes: float64(1), int64(5), object(2)\n",
      "memory usage: 98.2+ KB\n"
     ]
    }
   ],
   "source": [
    "df1.info() #查看數據內容(名稱、非空值數量和數據類型)"
   ]
  },
  {
   "cell_type": "code",
   "execution_count": 190,
   "metadata": {},
   "outputs": [
    {
     "data": {
      "text/html": [
       "<div>\n",
       "<style scoped>\n",
       "    .dataframe tbody tr th:only-of-type {\n",
       "        vertical-align: middle;\n",
       "    }\n",
       "\n",
       "    .dataframe tbody tr th {\n",
       "        vertical-align: top;\n",
       "    }\n",
       "\n",
       "    .dataframe thead th {\n",
       "        text-align: right;\n",
       "    }\n",
       "</style>\n",
       "<table border=\"1\" class=\"dataframe\">\n",
       "  <thead>\n",
       "    <tr style=\"text-align: right;\">\n",
       "      <th></th>\n",
       "      <th>booking_id</th>\n",
       "      <th>months_as_member</th>\n",
       "      <th>weight</th>\n",
       "      <th>days_before</th>\n",
       "      <th>day_of_week</th>\n",
       "      <th>attended</th>\n",
       "      <th>category_Cycling</th>\n",
       "      <th>category_HIIT</th>\n",
       "      <th>category_Strength</th>\n",
       "      <th>category_Yoga</th>\n",
       "      <th>category_unknown</th>\n",
       "      <th>time_PM</th>\n",
       "    </tr>\n",
       "  </thead>\n",
       "  <tbody>\n",
       "    <tr>\n",
       "      <th>0</th>\n",
       "      <td>1</td>\n",
       "      <td>17</td>\n",
       "      <td>79.56</td>\n",
       "      <td>8</td>\n",
       "      <td>3</td>\n",
       "      <td>0</td>\n",
       "      <td>False</td>\n",
       "      <td>False</td>\n",
       "      <td>True</td>\n",
       "      <td>False</td>\n",
       "      <td>False</td>\n",
       "      <td>True</td>\n",
       "    </tr>\n",
       "    <tr>\n",
       "      <th>1</th>\n",
       "      <td>2</td>\n",
       "      <td>10</td>\n",
       "      <td>79.01</td>\n",
       "      <td>2</td>\n",
       "      <td>1</td>\n",
       "      <td>0</td>\n",
       "      <td>False</td>\n",
       "      <td>True</td>\n",
       "      <td>False</td>\n",
       "      <td>False</td>\n",
       "      <td>False</td>\n",
       "      <td>False</td>\n",
       "    </tr>\n",
       "    <tr>\n",
       "      <th>2</th>\n",
       "      <td>3</td>\n",
       "      <td>16</td>\n",
       "      <td>74.53</td>\n",
       "      <td>14</td>\n",
       "      <td>7</td>\n",
       "      <td>0</td>\n",
       "      <td>False</td>\n",
       "      <td>False</td>\n",
       "      <td>True</td>\n",
       "      <td>False</td>\n",
       "      <td>False</td>\n",
       "      <td>False</td>\n",
       "    </tr>\n",
       "    <tr>\n",
       "      <th>3</th>\n",
       "      <td>4</td>\n",
       "      <td>5</td>\n",
       "      <td>86.12</td>\n",
       "      <td>10</td>\n",
       "      <td>5</td>\n",
       "      <td>0</td>\n",
       "      <td>True</td>\n",
       "      <td>False</td>\n",
       "      <td>False</td>\n",
       "      <td>False</td>\n",
       "      <td>False</td>\n",
       "      <td>False</td>\n",
       "    </tr>\n",
       "    <tr>\n",
       "      <th>4</th>\n",
       "      <td>5</td>\n",
       "      <td>15</td>\n",
       "      <td>69.29</td>\n",
       "      <td>8</td>\n",
       "      <td>4</td>\n",
       "      <td>0</td>\n",
       "      <td>False</td>\n",
       "      <td>True</td>\n",
       "      <td>False</td>\n",
       "      <td>False</td>\n",
       "      <td>False</td>\n",
       "      <td>False</td>\n",
       "    </tr>\n",
       "    <tr>\n",
       "      <th>...</th>\n",
       "      <td>...</td>\n",
       "      <td>...</td>\n",
       "      <td>...</td>\n",
       "      <td>...</td>\n",
       "      <td>...</td>\n",
       "      <td>...</td>\n",
       "      <td>...</td>\n",
       "      <td>...</td>\n",
       "      <td>...</td>\n",
       "      <td>...</td>\n",
       "      <td>...</td>\n",
       "      <td>...</td>\n",
       "    </tr>\n",
       "    <tr>\n",
       "      <th>1495</th>\n",
       "      <td>1496</td>\n",
       "      <td>21</td>\n",
       "      <td>79.51</td>\n",
       "      <td>10</td>\n",
       "      <td>5</td>\n",
       "      <td>0</td>\n",
       "      <td>False</td>\n",
       "      <td>True</td>\n",
       "      <td>False</td>\n",
       "      <td>False</td>\n",
       "      <td>False</td>\n",
       "      <td>False</td>\n",
       "    </tr>\n",
       "    <tr>\n",
       "      <th>1496</th>\n",
       "      <td>1497</td>\n",
       "      <td>29</td>\n",
       "      <td>89.55</td>\n",
       "      <td>2</td>\n",
       "      <td>1</td>\n",
       "      <td>0</td>\n",
       "      <td>False</td>\n",
       "      <td>False</td>\n",
       "      <td>True</td>\n",
       "      <td>False</td>\n",
       "      <td>False</td>\n",
       "      <td>False</td>\n",
       "    </tr>\n",
       "    <tr>\n",
       "      <th>1497</th>\n",
       "      <td>1498</td>\n",
       "      <td>9</td>\n",
       "      <td>87.38</td>\n",
       "      <td>4</td>\n",
       "      <td>2</td>\n",
       "      <td>0</td>\n",
       "      <td>False</td>\n",
       "      <td>True</td>\n",
       "      <td>False</td>\n",
       "      <td>False</td>\n",
       "      <td>False</td>\n",
       "      <td>False</td>\n",
       "    </tr>\n",
       "    <tr>\n",
       "      <th>1498</th>\n",
       "      <td>1499</td>\n",
       "      <td>34</td>\n",
       "      <td>68.64</td>\n",
       "      <td>14</td>\n",
       "      <td>7</td>\n",
       "      <td>0</td>\n",
       "      <td>False</td>\n",
       "      <td>False</td>\n",
       "      <td>False</td>\n",
       "      <td>False</td>\n",
       "      <td>False</td>\n",
       "      <td>False</td>\n",
       "    </tr>\n",
       "    <tr>\n",
       "      <th>1499</th>\n",
       "      <td>1500</td>\n",
       "      <td>20</td>\n",
       "      <td>94.39</td>\n",
       "      <td>8</td>\n",
       "      <td>4</td>\n",
       "      <td>1</td>\n",
       "      <td>True</td>\n",
       "      <td>False</td>\n",
       "      <td>False</td>\n",
       "      <td>False</td>\n",
       "      <td>False</td>\n",
       "      <td>False</td>\n",
       "    </tr>\n",
       "  </tbody>\n",
       "</table>\n",
       "<p>1397 rows × 12 columns</p>\n",
       "</div>"
      ],
      "text/plain": [
       "      booking_id  months_as_member  weight  days_before  day_of_week  \\\n",
       "0              1                17   79.56            8            3   \n",
       "1              2                10   79.01            2            1   \n",
       "2              3                16   74.53           14            7   \n",
       "3              4                 5   86.12           10            5   \n",
       "4              5                15   69.29            8            4   \n",
       "...          ...               ...     ...          ...          ...   \n",
       "1495        1496                21   79.51           10            5   \n",
       "1496        1497                29   89.55            2            1   \n",
       "1497        1498                 9   87.38            4            2   \n",
       "1498        1499                34   68.64           14            7   \n",
       "1499        1500                20   94.39            8            4   \n",
       "\n",
       "      attended  category_Cycling  category_HIIT  category_Strength  \\\n",
       "0            0             False          False               True   \n",
       "1            0             False           True              False   \n",
       "2            0             False          False               True   \n",
       "3            0              True          False              False   \n",
       "4            0             False           True              False   \n",
       "...        ...               ...            ...                ...   \n",
       "1495         0             False           True              False   \n",
       "1496         0             False          False               True   \n",
       "1497         0             False           True              False   \n",
       "1498         0             False          False              False   \n",
       "1499         1              True          False              False   \n",
       "\n",
       "      category_Yoga  category_unknown  time_PM  \n",
       "0             False             False     True  \n",
       "1             False             False    False  \n",
       "2             False             False    False  \n",
       "3             False             False    False  \n",
       "4             False             False    False  \n",
       "...             ...               ...      ...  \n",
       "1495          False             False    False  \n",
       "1496          False             False    False  \n",
       "1497          False             False    False  \n",
       "1498          False             False    False  \n",
       "1499          False             False    False  \n",
       "\n",
       "[1397 rows x 12 columns]"
      ]
     },
     "execution_count": 190,
     "metadata": {},
     "output_type": "execute_result"
    }
   ],
   "source": [
    "df1 = pd.get_dummies(df1, columns=['category', 'time'],drop_first=True)\n",
    "df1"
   ]
  },
  {
   "cell_type": "code",
   "execution_count": 191,
   "metadata": {},
   "outputs": [],
   "source": [
    "# 將所有預測變量複製到X數據框中\n",
    "X = df1.drop('attended', axis=1)  # df1是預處理後的數據框\n",
    "# 將目標複製到y數據框中。\n",
    "y = df1[['attended']]"
   ]
  },
  {
   "cell_type": "code",
   "execution_count": 192,
   "metadata": {},
   "outputs": [],
   "source": [
    "# 導入機器學習模型和性能指標\n",
    "from sklearn.linear_model import LogisticRegression\n",
    "from sklearn.ensemble import RandomForestClassifier\n",
    "from sklearn.model_selection import train_test_split\n",
    "from sklearn.metrics import precision_score, recall_score, f1_score\n",
    "from sklearn import metrics"
   ]
  },
  {
   "cell_type": "code",
   "execution_count": 193,
   "metadata": {},
   "outputs": [
    {
     "data": {
      "text/html": [
       "<style>#sk-container-id-3 {color: black;}#sk-container-id-3 pre{padding: 0;}#sk-container-id-3 div.sk-toggleable {background-color: white;}#sk-container-id-3 label.sk-toggleable__label {cursor: pointer;display: block;width: 100%;margin-bottom: 0;padding: 0.3em;box-sizing: border-box;text-align: center;}#sk-container-id-3 label.sk-toggleable__label-arrow:before {content: \"▸\";float: left;margin-right: 0.25em;color: #696969;}#sk-container-id-3 label.sk-toggleable__label-arrow:hover:before {color: black;}#sk-container-id-3 div.sk-estimator:hover label.sk-toggleable__label-arrow:before {color: black;}#sk-container-id-3 div.sk-toggleable__content {max-height: 0;max-width: 0;overflow: hidden;text-align: left;background-color: #f0f8ff;}#sk-container-id-3 div.sk-toggleable__content pre {margin: 0.2em;color: black;border-radius: 0.25em;background-color: #f0f8ff;}#sk-container-id-3 input.sk-toggleable__control:checked~div.sk-toggleable__content {max-height: 200px;max-width: 100%;overflow: auto;}#sk-container-id-3 input.sk-toggleable__control:checked~label.sk-toggleable__label-arrow:before {content: \"▾\";}#sk-container-id-3 div.sk-estimator input.sk-toggleable__control:checked~label.sk-toggleable__label {background-color: #d4ebff;}#sk-container-id-3 div.sk-label input.sk-toggleable__control:checked~label.sk-toggleable__label {background-color: #d4ebff;}#sk-container-id-3 input.sk-hidden--visually {border: 0;clip: rect(1px 1px 1px 1px);clip: rect(1px, 1px, 1px, 1px);height: 1px;margin: -1px;overflow: hidden;padding: 0;position: absolute;width: 1px;}#sk-container-id-3 div.sk-estimator {font-family: monospace;background-color: #f0f8ff;border: 1px dotted black;border-radius: 0.25em;box-sizing: border-box;margin-bottom: 0.5em;}#sk-container-id-3 div.sk-estimator:hover {background-color: #d4ebff;}#sk-container-id-3 div.sk-parallel-item::after {content: \"\";width: 100%;border-bottom: 1px solid gray;flex-grow: 1;}#sk-container-id-3 div.sk-label:hover label.sk-toggleable__label {background-color: #d4ebff;}#sk-container-id-3 div.sk-serial::before {content: \"\";position: absolute;border-left: 1px solid gray;box-sizing: border-box;top: 0;bottom: 0;left: 50%;z-index: 0;}#sk-container-id-3 div.sk-serial {display: flex;flex-direction: column;align-items: center;background-color: white;padding-right: 0.2em;padding-left: 0.2em;position: relative;}#sk-container-id-3 div.sk-item {position: relative;z-index: 1;}#sk-container-id-3 div.sk-parallel {display: flex;align-items: stretch;justify-content: center;background-color: white;position: relative;}#sk-container-id-3 div.sk-item::before, #sk-container-id-3 div.sk-parallel-item::before {content: \"\";position: absolute;border-left: 1px solid gray;box-sizing: border-box;top: 0;bottom: 0;left: 50%;z-index: -1;}#sk-container-id-3 div.sk-parallel-item {display: flex;flex-direction: column;z-index: 1;position: relative;background-color: white;}#sk-container-id-3 div.sk-parallel-item:first-child::after {align-self: flex-end;width: 50%;}#sk-container-id-3 div.sk-parallel-item:last-child::after {align-self: flex-start;width: 50%;}#sk-container-id-3 div.sk-parallel-item:only-child::after {width: 0;}#sk-container-id-3 div.sk-dashed-wrapped {border: 1px dashed gray;margin: 0 0.4em 0.5em 0.4em;box-sizing: border-box;padding-bottom: 0.4em;background-color: white;}#sk-container-id-3 div.sk-label label {font-family: monospace;font-weight: bold;display: inline-block;line-height: 1.2em;}#sk-container-id-3 div.sk-label-container {text-align: center;}#sk-container-id-3 div.sk-container {/* jupyter's `normalize.less` sets `[hidden] { display: none; }` but bootstrap.min.css set `[hidden] { display: none !important; }` so we also need the `!important` here to be able to override the default hidden behavior on the sphinx rendered scikit-learn.org. See: https://github.com/scikit-learn/scikit-learn/issues/21755 */display: inline-block !important;position: relative;}#sk-container-id-3 div.sk-text-repr-fallback {display: none;}</style><div id=\"sk-container-id-3\" class=\"sk-top-container\"><div class=\"sk-text-repr-fallback\"><pre>LogisticRegression()</pre><b>In a Jupyter environment, please rerun this cell to show the HTML representation or trust the notebook. <br />On GitHub, the HTML representation is unable to render, please try loading this page with nbviewer.org.</b></div><div class=\"sk-container\" hidden><div class=\"sk-item\"><div class=\"sk-estimator sk-toggleable\"><input class=\"sk-toggleable__control sk-hidden--visually\" id=\"sk-estimator-id-3\" type=\"checkbox\" checked><label for=\"sk-estimator-id-3\" class=\"sk-toggleable__label sk-toggleable__label-arrow\">LogisticRegression</label><div class=\"sk-toggleable__content\"><pre>LogisticRegression()</pre></div></div></div></div></div>"
      ],
      "text/plain": [
       "LogisticRegression()"
      ]
     },
     "execution_count": 193,
     "metadata": {},
     "output_type": "execute_result"
    }
   ],
   "source": [
    "\"\"\"\n",
    "Task 6\n",
    "\n",
    "邏輯回歸分類器，以使用提供的數據預測成員是否會參加。\n",
    "\"\"\"\n",
    "\n",
    "# 將數據集分割為70%的訓練集和30%的測試集\n",
    "X_train, X_test, y_train, y_test = train_test_split(X, y, test_size=0.30 , random_state=1)\n",
    "\n",
    "#建立和訓練邏輯回歸模型：\n",
    "regression_model = LogisticRegression()\n",
    "regression_model.fit(X_train, y_train)"
   ]
  },
  {
   "cell_type": "code",
   "execution_count": 194,
   "metadata": {},
   "outputs": [],
   "source": [
    "\"\"\"\n",
    "Task 7\n",
    "\n",
    "隨機森林分類器，以使用提供的數據預測成員是否會參加。\n",
    "\"\"\"\n",
    "\n",
    "#建立和訓練隨機森林分類器：\n",
    "rfcl = RandomForestClassifier(n_estimators = 50, random_state=1)\n",
    "rfcl = rfcl.fit(X_train, y_train)"
   ]
  },
  {
   "cell_type": "code",
   "execution_count": 195,
   "metadata": {},
   "outputs": [
    {
     "data": {
      "text/plain": [
       "'\\nTask 8\\n\\n模型評估參數\\n- 基於預測健身課程出席情況的具體任務，我考慮了精確度、召回率和 F1 分數。\\n- 精確度、召回率和 F1 分數是在處理不平衡數據時特別重要的評估指標。\\n'"
      ]
     },
     "execution_count": 195,
     "metadata": {},
     "output_type": "execute_result"
    }
   ],
   "source": [
    "\"\"\"\n",
    "Task 8\n",
    "\n",
    "模型評估參數\n",
    "- 基於預測健身課程出席情況的具體任務，我考慮了精確度、召回率和 F1 分數。\n",
    "- 精確度、召回率和 F1 分數是在處理不平衡數據時特別重要的評估指標。\n",
    "\"\"\""
   ]
  },
  {
   "cell_type": "code",
   "execution_count": 196,
   "metadata": {},
   "outputs": [
    {
     "name": "stdout",
     "output_type": "stream",
     "text": [
      "0.7976190476190477\n"
     ]
    },
    {
     "data": {
      "text/plain": [
       "<Axes: >"
      ]
     },
     "execution_count": 196,
     "metadata": {},
     "output_type": "execute_result"
    },
    {
     "data": {
      "image/png": "[encoded data removed]",
      "text/plain": [
       "<Figure size 700x500 with 2 Axes>"
      ]
     },
     "metadata": {},
     "output_type": "display_data"
    }
   ],
   "source": [
    "# 對於邏輯回歸分類器\n",
    "#邏輯回歸分類器的測試集預測、性能評估，並創建了一個混淆矩陣的熱力圖。\n",
    "\n",
    "#使用邏輯回歸模型進行預測：\n",
    "y_predict = regression_model.predict(X_test)\n",
    "\n",
    "#評估模型性能：\n",
    "print(regression_model.score(X_test, y_test))\n",
    "\n",
    "#創建混淆矩陣：\n",
    "cm=metrics.confusion_matrix(y_test, y_predict,labels=[0, 1])\n",
    "\n",
    "#將混淆矩陣轉換為 DataFrame\n",
    "df_cm = pd.DataFrame(cm, index = [i for i in [\"實際負向\",\"實際正向\"]],\n",
    "                  columns = [i for i in [\"預測負向\",\"預測正向\"]])\n",
    "\n",
    "#繪製混淆矩陣的熱力圖：\n",
    "plt.figure(figsize = (7,5))\n",
    "sns.heatmap(df_cm, cmap=[\"#d0e4f5\", \"#ebc1b7\"],annot=True ,fmt='g')\n",
    "#混淆矩陣是一種非常有用的工具，用於可視化分類模型的性能，特別是在區分模型對不同類別的預測能力方面。每個格子的值表示實際類別與預測類別之間的關係，例如真陽性（True Positives）、假陰性（False Negatives）等。"
   ]
  },
  {
   "cell_type": "code",
   "execution_count": 197,
   "metadata": {},
   "outputs": [
    {
     "data": {
      "text/plain": [
       "'\\n這張圖是一個混淆矩陣的熱力圖，它用於顯示邏輯回歸模型在測試集上的性能。\\n\"實際負向\" 行代表實際未出席的案例。\\n\"實際正向\" 行代表實際出席的案例。\\n\"預測負向\" 列代表模型預測未出席的案例。\\n\"預測正向\" 列代表模型預測出席的案例。\\n\\n混淆矩陣的每個格子表示如下：\\n左上格子（實際未出席，預測未出席）：模型正確預測了298個未出席的案例。\\n右上格子（實際未出席，預測出席）：模型錯誤預測了26個實際未出席的案例為出席。\\n左下和右下：這些值被截斷了，因此不顯示具體數字。\\n\\n數字 0.7976190476190477 是模型的準確率，意味著模型正確預測了約79.8%的案例。\\n'"
      ]
     },
     "execution_count": 197,
     "metadata": {},
     "output_type": "execute_result"
    }
   ],
   "source": [
    "\"\"\"\n",
    "這張圖是一個混淆矩陣的熱力圖，它用於顯示邏輯回歸模型在測試集上的性能。\n",
    "\"實際負向\" 行代表實際未出席的案例。\n",
    "\"實際正向\" 行代表實際出席的案例。\n",
    "\"預測負向\" 列代表模型預測未出席的案例。\n",
    "\"預測正向\" 列代表模型預測出席的案例。\n",
    "\n",
    "混淆矩陣的每個格子表示如下：\n",
    "左上格子（實際未出席，預測未出席）：模型正確預測了298個未出席的案例。\n",
    "右上格子（實際未出席，預測出席）：模型錯誤預測了26個實際未出席的案例為出席。\n",
    "左下和右下：這些值被截斷了，因此不顯示具體數字。\n",
    "\n",
    "數字 0.7976190476190477 是模型的準確率，意味著模型正確預測了約79.8%的案例。\n",
    "\"\"\""
   ]
  },
  {
   "cell_type": "code",
   "execution_count": 198,
   "metadata": {},
   "outputs": [
    {
     "name": "stdout",
     "output_type": "stream",
     "text": [
      "精確度（出席預測）: 0.5873015873015873\n",
      "召回率（識別實際出席者）: 0.3854166666666667\n",
      "F1分數（精確度和召回率的平衡）: 0.46540880503144655\n"
     ]
    }
   ],
   "source": [
    "#使用 scikit-learn 的性能評估函數來計算模型在測試數據上的精確度（precision）、召回率（recall）和 F1 分數。\n",
    "\n",
    "#精確度（Precision）：\n",
    "precision = precision_score(y_test, y_predict)\n",
    "\n",
    "#召回率（Recall）：\n",
    "recall = recall_score(y_test, y_predict)\n",
    "\n",
    "#F1 分數（F1-Score）：\n",
    "f1 = f1_score(y_test, y_predict)\n",
    "\n",
    "#打印結果：\n",
    "print(\"精確度（出席預測）:\", precision)\n",
    "print(\"召回率（識別實際出席者）:\", recall)\n",
    "print(\"F1分數（精確度和召回率的平衡）:\", f1)"
   ]
  },
  {
   "cell_type": "code",
   "execution_count": 199,
   "metadata": {},
   "outputs": [
    {
     "name": "stdout",
     "output_type": "stream",
     "text": [
      "0.780952380952381\n"
     ]
    },
    {
     "data": {
      "text/plain": [
       "<Axes: >"
      ]
     },
     "execution_count": 199,
     "metadata": {},
     "output_type": "execute_result"
    },
    {
     "data": {
      "image/png": "[encoded data removed]",
      "text/plain": [
       "<Figure size 700x500 with 2 Axes>"
      ]
     },
     "metadata": {},
     "output_type": "display_data"
    }
   ],
   "source": [
    "# 對於隨機森林分類器\n",
    "#隨機森林分類器測試集預測，計算了模型的準確度，並創建了混淆矩陣的熱力圖。\n",
    "\n",
    "#使用隨機森林模型進行預測：\n",
    "y_predict = rfcl.predict(X_test)\n",
    "\n",
    "#評估模型性能：\n",
    "print(rfcl.score(X_test, y_test))\n",
    "\n",
    "#創建混淆矩陣：\n",
    "cm=metrics.confusion_matrix(y_test, y_predict,labels=[0, 1])\n",
    "\n",
    "#將混淆矩陣轉換為 DataFrame：\n",
    "df_cm = pd.DataFrame(cm, index = [i for i in [\"實際負向\",\"實際正向\"]],\n",
    "                  columns = [i for i in [\"預測負向\",\"預測正向\"]])\n",
    "\n",
    "#繪製混淆矩陣的熱力圖：\n",
    "plt.figure(figsize = (7,5))\n",
    "sns.heatmap(df_cm, cmap=[\"#d0e4f5\", \"#ebc1b7\"],annot=True ,fmt='g')"
   ]
  },
  {
   "cell_type": "code",
   "execution_count": 200,
   "metadata": {},
   "outputs": [
    {
     "data": {
      "text/plain": [
       "'\\n這張圖同樣是一個混淆矩陣的熱力圖，用於展示隨機森林分類器在測試集上的性能。\\n\"實際負向\" 行代表實際未出席的案例。\\n\"實際正向\" 行代表實際出席的案例。\\n\"預測負向\" 列代表模型預測未出席的案例。\\n\"預測正向\" 列代表模型預測出席的案例。\\n\\n混淆矩陣的每個格子表示如下：\\n左上格子（實際未出席，預測未出席）：模型正確預測了291個未出席的案例。\\n右上格子（實際未出席，預測出席）：模型錯誤預測了33個實際未出席的案例為出席。\\n左下格子 和 右下格子 的數值被截斷了，因此不顯示具體數字。\\n\\n\\n數字 0.780952380952381 代表模型的準確率，意味著模型正確預測了約78.1%的案例。\\n'"
      ]
     },
     "execution_count": 200,
     "metadata": {},
     "output_type": "execute_result"
    }
   ],
   "source": [
    "\"\"\"\n",
    "這張圖同樣是一個混淆矩陣的熱力圖，用於展示隨機森林分類器在測試集上的性能。\n",
    "\"實際負向\" 行代表實際未出席的案例。\n",
    "\"實際正向\" 行代表實際出席的案例。\n",
    "\"預測負向\" 列代表模型預測未出席的案例。\n",
    "\"預測正向\" 列代表模型預測出席的案例。\n",
    "\n",
    "混淆矩陣的每個格子表示如下：\n",
    "左上格子（實際未出席，預測未出席）：模型正確預測了291個未出席的案例。\n",
    "右上格子（實際未出席，預測出席）：模型錯誤預測了33個實際未出席的案例為出席。\n",
    "左下格子 和 右下格子 的數值被截斷了，因此不顯示具體數字。\n",
    "\n",
    "\n",
    "數字 0.780952380952381 代表模型的準確率，意味著模型正確預測了約78.1%的案例。\n",
    "\"\"\""
   ]
  },
  {
   "cell_type": "code",
   "execution_count": 201,
   "metadata": {},
   "outputs": [
    {
     "name": "stdout",
     "output_type": "stream",
     "text": [
      "精確度（出席預測）: 0.5285714285714286\n",
      "召回率（識別實際出席者）: 0.3854166666666667\n",
      "F1分數（精確度和召回率的平衡）: 0.44578313253012053\n"
     ]
    }
   ],
   "source": [
    "#使用 scikit-learn 的性能評估函數來計算和打印隨機森林分類器在測試數據上的精確度（precision）、召回率（recall）和 F1 分數。\n",
    "\n",
    "#從 scikit-learn 的 metrics 模塊中導入了三個重要的性能評估函數。\n",
    "from sklearn.metrics import precision_score, recall_score, f1_score\n",
    "\n",
    "#精確度（Precision）：\n",
    "precision = precision_score(y_test, y_predict)\n",
    "\n",
    "#召回率（Recall）：\n",
    "recall = recall_score(y_test, y_predict)\n",
    "\n",
    "#F1 分數（F1-Score）：\n",
    "f1 = f1_score(y_test, y_predict)\n",
    "\n",
    "#打印結果：\n",
    "print(\"精確度（出席預測）:\", precision)\n",
    "print(\"召回率（識別實際出席者）:\", recall)\n",
    "print(\"F1分數（精確度和召回率的平衡）:\", f1)"
   ]
  },
  {
   "cell_type": "code",
   "execution_count": 202,
   "metadata": {},
   "outputs": [
    {
     "data": {
      "text/plain": [
       "'\\nTask 9\\n\\n模型性能比較 \\n哪個模型表現更好以及為什麼?\\n\\n<邏輯回歸模型>\\n準確率：79.8%\\n精確度（出席預測）：58.7%\\n召回率（識別實際出席者）：38.5%\\nF1分數（精確度和召回率的平衡）：46.5%\\n\\n\\n<隨機森林模型>\\n準確率：78.1%\\n精確度（出席預測）：52.9%\\n召回率（識別實際出席者）：38.5%\\nF1分數（精確度和召回率的平衡）：44.6%\\n\\n\\n<未來預測的選擇>\\n考慮到出席預測，邏輯回歸表現更好。\\n它顯示出更高的準確率，更好的精確度、召回率和F1分數。\\n推薦使用邏輯回歸來預測未來的出席情況。\\n'"
      ]
     },
     "execution_count": 202,
     "metadata": {},
     "output_type": "execute_result"
    }
   ],
   "source": [
    "\"\"\"\n",
    "Task 9\n",
    "\n",
    "模型性能比較 \n",
    "哪個模型表現更好以及為什麼?\n",
    "\n",
    "<邏輯回歸模型>\n",
    "準確率：79.8%\n",
    "精確度（出席預測）：58.7%\n",
    "召回率（識別實際出席者）：38.5%\n",
    "F1分數（精確度和召回率的平衡）：46.5%\n",
    "\n",
    "\n",
    "<隨機森林模型>\n",
    "準確率：78.1%\n",
    "精確度（出席預測）：52.9%\n",
    "召回率（識別實際出席者）：38.5%\n",
    "F1分數（精確度和召回率的平衡）：44.6%\n",
    "\n",
    "\n",
    "<未來預測的選擇>\n",
    "考慮到出席預測，邏輯回歸表現更好。\n",
    "它顯示出更高的準確率，更好的精確度、召回率和F1分數。\n",
    "推薦使用邏輯回歸來預測未來的出席情況。\n",
    "\"\"\""
   ]
  }
 ],
 "metadata": {
  "kernelspec": {
   "display_name": "forZM",
   "language": "python",
   "name": "python3"
  },
  "language_info": {
   "codemirror_mode": {
    "name": "ipython",
    "version": 3
   },
   "file_extension": ".py",
   "mimetype": "text/x-python",
   "name": "python",
   "nbconvert_exporter": "python",
   "pygments_lexer": "ipython3",
   "version": "3.9.18"
  }
 },
 "nbformat": 4,
 "nbformat_minor": 2
}
